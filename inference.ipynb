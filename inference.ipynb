{
 "cells": [
  {
   "cell_type": "markdown",
   "metadata": {},
   "source": [
    "# Football Match Predictor - Inference\n",
    "\n",
    "## Library Imports"
   ]
  },
  {
   "cell_type": "code",
   "execution_count": 1,
   "metadata": {},
   "outputs": [],
   "source": [
    "# Add all the library imports required\n",
    "import pandas as pd\n",
    "import numpy as np\n",
    "\n",
    "from sqlalchemy import create_engine\n",
    "import json\n",
    "\n",
    "import data_cleaning\n",
    "import feature_engineering"
   ]
  },
  {
   "cell_type": "code",
   "execution_count": 2,
   "metadata": {},
   "outputs": [
    {
     "data": {
      "text/html": [
       "<div>\n",
       "<style scoped>\n",
       "    .dataframe tbody tr th:only-of-type {\n",
       "        vertical-align: middle;\n",
       "    }\n",
       "\n",
       "    .dataframe tbody tr th {\n",
       "        vertical-align: top;\n",
       "    }\n",
       "\n",
       "    .dataframe thead th {\n",
       "        text-align: right;\n",
       "    }\n",
       "</style>\n",
       "<table border=\"1\" class=\"dataframe\">\n",
       "  <thead>\n",
       "    <tr style=\"text-align: right;\">\n",
       "      <th></th>\n",
       "      <th>home_team</th>\n",
       "      <th>away_team</th>\n",
       "      <th>score</th>\n",
       "      <th>link</th>\n",
       "      <th>season_year</th>\n",
       "      <th>match_round</th>\n",
       "      <th>league</th>\n",
       "      <th>home_goals</th>\n",
       "      <th>away_goals</th>\n",
       "      <th>result</th>\n",
       "      <th>home_points</th>\n",
       "      <th>away_points</th>\n",
       "      <th>match_id</th>\n",
       "    </tr>\n",
       "  </thead>\n",
       "  <tbody>\n",
       "    <tr>\n",
       "      <th>0</th>\n",
       "      <td>Brentford</td>\n",
       "      <td>Arsenal</td>\n",
       "      <td>2-0</td>\n",
       "      <td>https://www.besoccer.com/match/brentford/arsen...</td>\n",
       "      <td>2022</td>\n",
       "      <td>0</td>\n",
       "      <td>premier_league</td>\n",
       "      <td>2</td>\n",
       "      <td>0</td>\n",
       "      <td>home_win</td>\n",
       "      <td>3</td>\n",
       "      <td>0</td>\n",
       "      <td>brentford/arsenal/2022</td>\n",
       "    </tr>\n",
       "    <tr>\n",
       "      <th>1</th>\n",
       "      <td>Man. Utd</td>\n",
       "      <td>Leeds United</td>\n",
       "      <td>5-1</td>\n",
       "      <td>https://www.besoccer.com/match/manchester-unit...</td>\n",
       "      <td>2022</td>\n",
       "      <td>0</td>\n",
       "      <td>premier_league</td>\n",
       "      <td>5</td>\n",
       "      <td>1</td>\n",
       "      <td>home_win</td>\n",
       "      <td>3</td>\n",
       "      <td>0</td>\n",
       "      <td>manchester-united-fc/leeds-united-afc/2022</td>\n",
       "    </tr>\n",
       "    <tr>\n",
       "      <th>2</th>\n",
       "      <td>Burnley</td>\n",
       "      <td>Brighton &amp; Hove Albion</td>\n",
       "      <td>1-2</td>\n",
       "      <td>https://www.besoccer.com/match/burnley-fc/brig...</td>\n",
       "      <td>2022</td>\n",
       "      <td>0</td>\n",
       "      <td>premier_league</td>\n",
       "      <td>1</td>\n",
       "      <td>2</td>\n",
       "      <td>away_win</td>\n",
       "      <td>0</td>\n",
       "      <td>3</td>\n",
       "      <td>burnley-fc/brighton-amp-hov/2022</td>\n",
       "    </tr>\n",
       "    <tr>\n",
       "      <th>3</th>\n",
       "      <td>Chelsea</td>\n",
       "      <td>Crystal Palace</td>\n",
       "      <td>3-0</td>\n",
       "      <td>https://www.besoccer.com/match/chelsea-fc/crys...</td>\n",
       "      <td>2022</td>\n",
       "      <td>0</td>\n",
       "      <td>premier_league</td>\n",
       "      <td>3</td>\n",
       "      <td>0</td>\n",
       "      <td>home_win</td>\n",
       "      <td>3</td>\n",
       "      <td>0</td>\n",
       "      <td>chelsea-fc/crystal-palace-fc/2022</td>\n",
       "    </tr>\n",
       "    <tr>\n",
       "      <th>4</th>\n",
       "      <td>Everton</td>\n",
       "      <td>Southampton</td>\n",
       "      <td>3-1</td>\n",
       "      <td>https://www.besoccer.com/match/everton-fc/sout...</td>\n",
       "      <td>2022</td>\n",
       "      <td>0</td>\n",
       "      <td>premier_league</td>\n",
       "      <td>3</td>\n",
       "      <td>1</td>\n",
       "      <td>home_win</td>\n",
       "      <td>3</td>\n",
       "      <td>0</td>\n",
       "      <td>everton-fc/southampton-fc/2022</td>\n",
       "    </tr>\n",
       "  </tbody>\n",
       "</table>\n",
       "</div>"
      ],
      "text/plain": [
       "   home_team               away_team score  \\\n",
       "0  Brentford                 Arsenal   2-0   \n",
       "1   Man. Utd            Leeds United   5-1   \n",
       "2    Burnley  Brighton & Hove Albion   1-2   \n",
       "3    Chelsea          Crystal Palace   3-0   \n",
       "4    Everton             Southampton   3-1   \n",
       "\n",
       "                                                link  season_year  \\\n",
       "0  https://www.besoccer.com/match/brentford/arsen...         2022   \n",
       "1  https://www.besoccer.com/match/manchester-unit...         2022   \n",
       "2  https://www.besoccer.com/match/burnley-fc/brig...         2022   \n",
       "3  https://www.besoccer.com/match/chelsea-fc/crys...         2022   \n",
       "4  https://www.besoccer.com/match/everton-fc/sout...         2022   \n",
       "\n",
       "   match_round          league  home_goals  away_goals    result  home_points  \\\n",
       "0            0  premier_league           2           0  home_win            3   \n",
       "1            0  premier_league           5           1  home_win            3   \n",
       "2            0  premier_league           1           2  away_win            0   \n",
       "3            0  premier_league           3           0  home_win            3   \n",
       "4            0  premier_league           3           1  home_win            3   \n",
       "\n",
       "   away_points                                    match_id  \n",
       "0            0                      brentford/arsenal/2022  \n",
       "1            0  manchester-united-fc/leeds-united-afc/2022  \n",
       "2            3            burnley-fc/brighton-amp-hov/2022  \n",
       "3            0           chelsea-fc/crystal-palace-fc/2022  \n",
       "4            0              everton-fc/southampton-fc/2022  "
      ]
     },
     "execution_count": 2,
     "metadata": {},
     "output_type": "execute_result"
    }
   ],
   "source": [
    "scores_df = data_cleaning.import_leagues(original_dataset = False, years=[2022, 2023], to_predict=True)\n",
    "scores_df = data_cleaning.tweak_scores_df(scores_df)\n",
    "scores_df = data_cleaning.create_match_id_col_from_link(scores_df)\n",
    "scores_df.head()"
   ]
  },
  {
   "cell_type": "code",
   "execution_count": 3,
   "metadata": {},
   "outputs": [
    {
     "data": {
      "text/plain": [
       "date             1\n",
       "referee        371\n",
       "home_yellow      0\n",
       "home_red         0\n",
       "away_yellow      0\n",
       "away_red         0\n",
       "match_id         0\n",
       "dtype: int64"
      ]
     },
     "execution_count": 3,
     "metadata": {},
     "output_type": "execute_result"
    }
   ],
   "source": [
    "match_info_df = data_cleaning.import_match_info_data(to_predict=True)\n",
    "match_info_df = data_cleaning.create_match_id_col(match_info_df)\n",
    "match_info_df.isna().sum()"
   ]
  },
  {
   "cell_type": "code",
   "execution_count": 4,
   "metadata": {},
   "outputs": [
    {
     "data": {
      "text/html": [
       "<div>\n",
       "<style scoped>\n",
       "    .dataframe tbody tr th:only-of-type {\n",
       "        vertical-align: middle;\n",
       "    }\n",
       "\n",
       "    .dataframe tbody tr th {\n",
       "        vertical-align: top;\n",
       "    }\n",
       "\n",
       "    .dataframe thead th {\n",
       "        text-align: right;\n",
       "    }\n",
       "</style>\n",
       "<table border=\"1\" class=\"dataframe\">\n",
       "  <thead>\n",
       "    <tr style=\"text-align: right;\">\n",
       "      <th></th>\n",
       "      <th>link</th>\n",
       "      <th>home_elo</th>\n",
       "      <th>away_elo</th>\n",
       "    </tr>\n",
       "  </thead>\n",
       "  <tbody>\n",
       "    <tr>\n",
       "      <th>0</th>\n",
       "      <td>https://www.besoccer.com/match/valencia-cf/get...</td>\n",
       "      <td>85</td>\n",
       "      <td>75</td>\n",
       "    </tr>\n",
       "    <tr>\n",
       "      <th>1</th>\n",
       "      <td>https://www.besoccer.com/match/mallorca/betis/...</td>\n",
       "      <td>79</td>\n",
       "      <td>82</td>\n",
       "    </tr>\n",
       "    <tr>\n",
       "      <th>2</th>\n",
       "      <td>https://www.besoccer.com/match/cadiz/levante/2...</td>\n",
       "      <td>72</td>\n",
       "      <td>77</td>\n",
       "    </tr>\n",
       "    <tr>\n",
       "      <th>3</th>\n",
       "      <td>https://www.besoccer.com/match/alaves/real-mad...</td>\n",
       "      <td>57</td>\n",
       "      <td>96</td>\n",
       "    </tr>\n",
       "    <tr>\n",
       "      <th>4</th>\n",
       "      <td>https://www.besoccer.com/match/osasuna/espanyo...</td>\n",
       "      <td>74</td>\n",
       "      <td>77</td>\n",
       "    </tr>\n",
       "  </tbody>\n",
       "</table>\n",
       "</div>"
      ],
      "text/plain": [
       "                                                link home_elo away_elo\n",
       "0  https://www.besoccer.com/match/valencia-cf/get...       85       75\n",
       "1  https://www.besoccer.com/match/mallorca/betis/...       79       82\n",
       "2  https://www.besoccer.com/match/cadiz/levante/2...       72       77\n",
       "3  https://www.besoccer.com/match/alaves/real-mad...       57       96\n",
       "4  https://www.besoccer.com/match/osasuna/espanyo...       74       77"
      ]
     },
     "execution_count": 4,
     "metadata": {},
     "output_type": "execute_result"
    }
   ],
   "source": [
    "elo_df = data_cleaning.import_elo_data(to_predict=True)\n",
    "elo_df.head()"
   ]
  },
  {
   "cell_type": "code",
   "execution_count": 5,
   "metadata": {},
   "outputs": [],
   "source": [
    "scores_df = data_cleaning.import_leagues(original_dataset = False, years=[2022, 2023], to_predict=True)\n",
    "scores_df = data_cleaning.tweak_scores_df(scores_df)\n",
    "scores_df = data_cleaning.create_match_id_col_from_link(scores_df)\n",
    "\n",
    "match_info_df = data_cleaning.import_match_info_data(to_predict=True)\n",
    "match_info_df = data_cleaning.create_match_id_col(match_info_df)\n",
    "\n",
    "team_info_df = data_cleaning.import_team_info_data()\n",
    "\n",
    "elo_df = data_cleaning.import_elo_data(to_predict=True)\n",
    "\n",
    "merged_data_df = data_cleaning.merge_data_into_one_df(scores_df, match_info_df, team_info_df, elo_df)"
   ]
  },
  {
   "cell_type": "code",
   "execution_count": 7,
   "metadata": {},
   "outputs": [
    {
     "data": {
      "text/plain": [
       "home_team        0\n",
       "away_team        0\n",
       "score            0\n",
       "link             0\n",
       "season_year      0\n",
       "match_round      0\n",
       "league           0\n",
       "home_goals       0\n",
       "away_goals       0\n",
       "result           0\n",
       "home_points      0\n",
       "away_points      0\n",
       "date             1\n",
       "referee        266\n",
       "home_yellow      0\n",
       "home_red         0\n",
       "away_yellow      0\n",
       "away_red         0\n",
       "capacity       455\n",
       "home_elo         0\n",
       "away_elo         0\n",
       "dtype: int64"
      ]
     },
     "execution_count": 7,
     "metadata": {},
     "output_type": "execute_result"
    }
   ],
   "source": [
    "# Import all the data and merge into one data frame\n",
    "merged_data_df = data_cleaning.import_and_merge_data_pipeline(original_dataset = False, years=[2022, 2023], to_predict=True)\n",
    "merged_data_df.isna().sum()"
   ]
  }
 ],
 "metadata": {
  "kernelspec": {
   "display_name": "Python 3.10.4 ('footy_predictor')",
   "language": "python",
   "name": "python3"
  },
  "language_info": {
   "codemirror_mode": {
    "name": "ipython",
    "version": 3
   },
   "file_extension": ".py",
   "mimetype": "text/x-python",
   "name": "python",
   "nbconvert_exporter": "python",
   "pygments_lexer": "ipython3",
   "version": "3.10.4"
  },
  "orig_nbformat": 4,
  "vscode": {
   "interpreter": {
    "hash": "c4bbc4a837dc347233f7bf2a9207f73a98c5ca2569aa701527add23fb81a3c25"
   }
  }
 },
 "nbformat": 4,
 "nbformat_minor": 2
}
