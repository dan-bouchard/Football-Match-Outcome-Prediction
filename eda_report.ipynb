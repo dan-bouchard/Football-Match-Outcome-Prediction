{
 "cells": [
  {
   "cell_type": "markdown",
   "metadata": {},
   "source": [
    "# Football Match Predictor - EDA Report\n",
    "\n",
    "In the main Football-Dataset, there are many attributes where exploratory data analysis can be useful to extract some insights.\n",
    "\n",
    "Firstly, the data contains all the results from 1990-2021 inclusive from the top two leagues from the following countries:\n",
    "- England\n",
    "    - Premier League\n",
    "    - Championship\n",
    "- Spain\n",
    "    - Primera Division\n",
    "    - Segunda Division\n",
    "- Germany\n",
    "    - Bundesliga\n",
    "    - 2 Liga\n",
    "- Italy\n",
    "    - Serie A\n",
    "    - Serie B\n",
    "- France\n",
    "    - Ligue 1\n",
    "    - Ligue 2\n",
    "- Netherlands\n",
    "    - Eredivisie\n",
    "    - Eerste Divisie\n",
    "\n",
    "Unfortunately, there is so missing data for some years "
   ]
  }
 ],
 "metadata": {
  "language_info": {
   "name": "python"
  },
  "orig_nbformat": 4
 },
 "nbformat": 4,
 "nbformat_minor": 2
}
