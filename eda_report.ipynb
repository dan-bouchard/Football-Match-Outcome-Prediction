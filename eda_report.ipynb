{
 "cells": [
  {
   "cell_type": "markdown",
   "metadata": {},
   "source": [
    "# Football Match Predictor - EDA Report\n",
    "\n",
    "In the main Football-Dataset, there are many attributes where exploratory data analysis can be useful to extract some insights.\n",
    "\n",
    "Firstly, the data contains all the results from 1990-2021 inclusive from the top two leagues from the following countries:\n",
    "- England\n",
    "    - Premier League\n",
    "    - Championship\n",
    "- Spain\n",
    "    - Primera Division\n",
    "    - Segunda Division\n",
    "- Germany\n",
    "    - Bundesliga\n",
    "    - 2 Liga\n",
    "- Italy\n",
    "    - Serie A\n",
    "    - Serie B\n",
    "- France\n",
    "    - Ligue 1\n",
    "    - Ligue 2\n",
    "- Netherlands\n",
    "    - Eredivisie\n",
    "    - Eerste Divisie\n",
    "\n",
    "## Differences between the different leagues\n",
    "\n",
    "Unfortunately, there is some missing data for some years as can be seen below:\n",
    "\n",
    "![](/imgs/number_of_teams_each_year_plot.png?raw=1)\n",
    "\n",
    "The leagues affected include the: Championship, Eerste Divisie, Ligue 2 and Serie A. It is unclear whether leagues having a different number of teams will affect the quality of the data and the ability to predict future results.\n",
    "\n",
    "Naturally, a direct result of having a different number of teams in each league also means that there are a different number of total matches played in each league every year.\n",
    "\n",
    "![](/imgs/number_of_matches_each_year.png?raw=1)\n",
    "\n",
    "Some leagues had an incomplete season in 2020 due to the Covid-19 pandemic, these include: Eredivisie, Eerste Divisie, Ligue 1 and Ligue 2. Also, the 2021 season is incomplete as the season is ongoing. The year 2021 refers to the 2021-22 season.\n",
    "\n",
    "Due to the data containing only: teams playing, score, year, league and round there is not a huge amount of insights that can be sought. Looking at the average goals per game across the leagues and seasons seems like an obvious place to start.\n",
    "\n",
    "![](/imgs/number_of_goals_per_game_each_year.png?raw=1)\n",
    "\n",
    "There is not much trend across different years, so it may be easier to just look at the difference across the different leagues.\n",
    "\n",
    "![](/imgs/number_of_goals_per_game_in_each_league.png?raw=1)"
   ]
  }
 ],
 "metadata": {
  "language_info": {
   "name": "python"
  },
  "orig_nbformat": 4
 },
 "nbformat": 4,
 "nbformat_minor": 2
}
