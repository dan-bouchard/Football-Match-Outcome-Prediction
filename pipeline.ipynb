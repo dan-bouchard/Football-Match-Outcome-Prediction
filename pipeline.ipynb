{
 "cells": [
  {
   "cell_type": "markdown",
   "metadata": {},
   "source": [
    "# Football Match Predictor - Data pipeline and SQL database\n",
    "\n",
    "## Library Imports"
   ]
  },
  {
   "cell_type": "code",
   "execution_count": 1,
   "metadata": {},
   "outputs": [],
   "source": [
    "# Add all the library imports required\n",
    "import pandas as pd\n",
    "import numpy as np\n",
    "\n",
    "from sqlalchemy import create_engine\n",
    "import json\n",
    "\n",
    "import data_cleaning\n",
    "import feature_engineering"
   ]
  },
  {
   "cell_type": "markdown",
   "metadata": {},
   "source": [
    "## Generate Pipeline"
   ]
  },
  {
   "cell_type": "code",
   "execution_count": 2,
   "metadata": {},
   "outputs": [],
   "source": [
    "# Import all the data and merge into one data frame\n",
    "merged_data_df = data_cleaning.import_and_merge_data_pipeline()"
   ]
  },
  {
   "cell_type": "code",
   "execution_count": 3,
   "metadata": {},
   "outputs": [
    {
     "data": {
      "text/plain": [
       "0"
      ]
     },
     "execution_count": 3,
     "metadata": {},
     "output_type": "execute_result"
    }
   ],
   "source": [
    "# Clean all the data\n",
    "cleaned_df = data_cleaning.clean_data_pipeline(merged_data_df)\n",
    "\n",
    "cleaned_df.isna().sum().sum()"
   ]
  },
  {
   "cell_type": "markdown",
   "metadata": {},
   "source": [
    "## Feature Engineering"
   ]
  },
  {
   "cell_type": "code",
   "execution_count": 4,
   "metadata": {},
   "outputs": [
    {
     "data": {
      "text/html": [
       "<div>\n",
       "<style scoped>\n",
       "    .dataframe tbody tr th:only-of-type {\n",
       "        vertical-align: middle;\n",
       "    }\n",
       "\n",
       "    .dataframe tbody tr th {\n",
       "        vertical-align: top;\n",
       "    }\n",
       "\n",
       "    .dataframe thead th {\n",
       "        text-align: right;\n",
       "    }\n",
       "</style>\n",
       "<table border=\"1\" class=\"dataframe\">\n",
       "  <thead>\n",
       "    <tr style=\"text-align: right;\">\n",
       "      <th></th>\n",
       "      <th>home_team</th>\n",
       "      <th>away_team</th>\n",
       "      <th>score</th>\n",
       "      <th>link</th>\n",
       "      <th>season_year</th>\n",
       "      <th>match_round</th>\n",
       "      <th>league</th>\n",
       "      <th>home_goals</th>\n",
       "      <th>away_goals</th>\n",
       "      <th>result</th>\n",
       "      <th>...</th>\n",
       "      <th>home_team_home_form</th>\n",
       "      <th>away_team_away_form</th>\n",
       "      <th>home_team_home_total_goals</th>\n",
       "      <th>away_team_away_total_goals</th>\n",
       "      <th>home_form</th>\n",
       "      <th>home_total_goals</th>\n",
       "      <th>home_discipline</th>\n",
       "      <th>away_form</th>\n",
       "      <th>away_total_goals</th>\n",
       "      <th>away_discipline</th>\n",
       "    </tr>\n",
       "    <tr>\n",
       "      <th>match_id</th>\n",
       "      <th></th>\n",
       "      <th></th>\n",
       "      <th></th>\n",
       "      <th></th>\n",
       "      <th></th>\n",
       "      <th></th>\n",
       "      <th></th>\n",
       "      <th></th>\n",
       "      <th></th>\n",
       "      <th></th>\n",
       "      <th></th>\n",
       "      <th></th>\n",
       "      <th></th>\n",
       "      <th></th>\n",
       "      <th></th>\n",
       "      <th></th>\n",
       "      <th></th>\n",
       "      <th></th>\n",
       "      <th></th>\n",
       "      <th></th>\n",
       "      <th></th>\n",
       "    </tr>\n",
       "  </thead>\n",
       "  <tbody>\n",
       "    <tr>\n",
       "      <th>bayern-munchen/karlsruher-sc/1992</th>\n",
       "      <td>Bayern München</td>\n",
       "      <td>Karlsruher SC</td>\n",
       "      <td>1-0</td>\n",
       "      <td>https://www.besoccer.com/match/bayern-munchen/...</td>\n",
       "      <td>1992</td>\n",
       "      <td>19</td>\n",
       "      <td>bundesliga</td>\n",
       "      <td>1</td>\n",
       "      <td>0</td>\n",
       "      <td>home_win</td>\n",
       "      <td>...</td>\n",
       "      <td>4.0</td>\n",
       "      <td>4.0</td>\n",
       "      <td>14.0</td>\n",
       "      <td>18.0</td>\n",
       "      <td>6.0</td>\n",
       "      <td>23.0</td>\n",
       "      <td>2.2</td>\n",
       "      <td>7.0</td>\n",
       "      <td>24.0</td>\n",
       "      <td>2.4</td>\n",
       "    </tr>\n",
       "    <tr>\n",
       "      <th>salernitana-calcio-1919/palermo/2018</th>\n",
       "      <td>Salernitana</td>\n",
       "      <td>Palermo FC</td>\n",
       "      <td>0-2</td>\n",
       "      <td>https://www.besoccer.com/match/salernitana-cal...</td>\n",
       "      <td>2018</td>\n",
       "      <td>42</td>\n",
       "      <td>serie_b</td>\n",
       "      <td>0</td>\n",
       "      <td>2</td>\n",
       "      <td>away_win</td>\n",
       "      <td>...</td>\n",
       "      <td>6.0</td>\n",
       "      <td>4.0</td>\n",
       "      <td>28.0</td>\n",
       "      <td>25.0</td>\n",
       "      <td>7.0</td>\n",
       "      <td>51.0</td>\n",
       "      <td>3.6</td>\n",
       "      <td>8.0</td>\n",
       "      <td>57.0</td>\n",
       "      <td>1.2</td>\n",
       "    </tr>\n",
       "    <tr>\n",
       "      <th>sv-sandhausen/eintracht-brau-hellip/2017</th>\n",
       "      <td>Sandhausen</td>\n",
       "      <td>Braunschweig</td>\n",
       "      <td>0-1</td>\n",
       "      <td>https://www.besoccer.com/match/sv-sandhausen/e...</td>\n",
       "      <td>2017</td>\n",
       "      <td>22</td>\n",
       "      <td>2_liga</td>\n",
       "      <td>0</td>\n",
       "      <td>1</td>\n",
       "      <td>away_win</td>\n",
       "      <td>...</td>\n",
       "      <td>4.0</td>\n",
       "      <td>3.0</td>\n",
       "      <td>15.0</td>\n",
       "      <td>7.0</td>\n",
       "      <td>7.0</td>\n",
       "      <td>29.0</td>\n",
       "      <td>2.4</td>\n",
       "      <td>4.0</td>\n",
       "      <td>33.0</td>\n",
       "      <td>2.6</td>\n",
       "    </tr>\n",
       "    <tr>\n",
       "      <th>rm-castilla/lorca-deportiva-cf-sad/2006</th>\n",
       "      <td>RM Castilla</td>\n",
       "      <td>Lorca Deportiva</td>\n",
       "      <td>1-2</td>\n",
       "      <td>https://www.besoccer.com/match/rm-castilla/lor...</td>\n",
       "      <td>2006</td>\n",
       "      <td>8</td>\n",
       "      <td>segunda_division</td>\n",
       "      <td>1</td>\n",
       "      <td>2</td>\n",
       "      <td>away_win</td>\n",
       "      <td>...</td>\n",
       "      <td>3.0</td>\n",
       "      <td>3.0</td>\n",
       "      <td>6.0</td>\n",
       "      <td>5.0</td>\n",
       "      <td>4.0</td>\n",
       "      <td>12.0</td>\n",
       "      <td>2.0</td>\n",
       "      <td>6.0</td>\n",
       "      <td>7.0</td>\n",
       "      <td>2.0</td>\n",
       "    </tr>\n",
       "    <tr>\n",
       "      <th>toulouse-fc/paris-saint-germain-fc/2006</th>\n",
       "      <td>Toulouse</td>\n",
       "      <td>PSG</td>\n",
       "      <td>1-0</td>\n",
       "      <td>https://www.besoccer.com/match/toulouse-fc/par...</td>\n",
       "      <td>2006</td>\n",
       "      <td>21</td>\n",
       "      <td>ligue_1</td>\n",
       "      <td>1</td>\n",
       "      <td>0</td>\n",
       "      <td>home_win</td>\n",
       "      <td>...</td>\n",
       "      <td>6.0</td>\n",
       "      <td>4.0</td>\n",
       "      <td>10.0</td>\n",
       "      <td>8.0</td>\n",
       "      <td>7.0</td>\n",
       "      <td>19.0</td>\n",
       "      <td>1.8</td>\n",
       "      <td>7.0</td>\n",
       "      <td>26.0</td>\n",
       "      <td>1.8</td>\n",
       "    </tr>\n",
       "  </tbody>\n",
       "</table>\n",
       "<p>5 rows × 31 columns</p>\n",
       "</div>"
      ],
      "text/plain": [
       "                                               home_team        away_team  \\\n",
       "match_id                                                                    \n",
       "bayern-munchen/karlsruher-sc/1992         Bayern München    Karlsruher SC   \n",
       "salernitana-calcio-1919/palermo/2018         Salernitana       Palermo FC   \n",
       "sv-sandhausen/eintracht-brau-hellip/2017      Sandhausen     Braunschweig   \n",
       "rm-castilla/lorca-deportiva-cf-sad/2006      RM Castilla  Lorca Deportiva   \n",
       "toulouse-fc/paris-saint-germain-fc/2006         Toulouse              PSG   \n",
       "\n",
       "                                         score  \\\n",
       "match_id                                         \n",
       "bayern-munchen/karlsruher-sc/1992          1-0   \n",
       "salernitana-calcio-1919/palermo/2018       0-2   \n",
       "sv-sandhausen/eintracht-brau-hellip/2017   0-1   \n",
       "rm-castilla/lorca-deportiva-cf-sad/2006    1-2   \n",
       "toulouse-fc/paris-saint-germain-fc/2006    1-0   \n",
       "\n",
       "                                                                                       link  \\\n",
       "match_id                                                                                      \n",
       "bayern-munchen/karlsruher-sc/1992         https://www.besoccer.com/match/bayern-munchen/...   \n",
       "salernitana-calcio-1919/palermo/2018      https://www.besoccer.com/match/salernitana-cal...   \n",
       "sv-sandhausen/eintracht-brau-hellip/2017  https://www.besoccer.com/match/sv-sandhausen/e...   \n",
       "rm-castilla/lorca-deportiva-cf-sad/2006   https://www.besoccer.com/match/rm-castilla/lor...   \n",
       "toulouse-fc/paris-saint-germain-fc/2006   https://www.besoccer.com/match/toulouse-fc/par...   \n",
       "\n",
       "                                          season_year  match_round  \\\n",
       "match_id                                                             \n",
       "bayern-munchen/karlsruher-sc/1992                1992           19   \n",
       "salernitana-calcio-1919/palermo/2018             2018           42   \n",
       "sv-sandhausen/eintracht-brau-hellip/2017         2017           22   \n",
       "rm-castilla/lorca-deportiva-cf-sad/2006          2006            8   \n",
       "toulouse-fc/paris-saint-germain-fc/2006          2006           21   \n",
       "\n",
       "                                                    league  home_goals  \\\n",
       "match_id                                                                 \n",
       "bayern-munchen/karlsruher-sc/1992               bundesliga           1   \n",
       "salernitana-calcio-1919/palermo/2018               serie_b           0   \n",
       "sv-sandhausen/eintracht-brau-hellip/2017            2_liga           0   \n",
       "rm-castilla/lorca-deportiva-cf-sad/2006   segunda_division           1   \n",
       "toulouse-fc/paris-saint-germain-fc/2006            ligue_1           1   \n",
       "\n",
       "                                          away_goals    result  ...  \\\n",
       "match_id                                                        ...   \n",
       "bayern-munchen/karlsruher-sc/1992                  0  home_win  ...   \n",
       "salernitana-calcio-1919/palermo/2018               2  away_win  ...   \n",
       "sv-sandhausen/eintracht-brau-hellip/2017           1  away_win  ...   \n",
       "rm-castilla/lorca-deportiva-cf-sad/2006            2  away_win  ...   \n",
       "toulouse-fc/paris-saint-germain-fc/2006            0  home_win  ...   \n",
       "\n",
       "                                          home_team_home_form  \\\n",
       "match_id                                                        \n",
       "bayern-munchen/karlsruher-sc/1992                         4.0   \n",
       "salernitana-calcio-1919/palermo/2018                      6.0   \n",
       "sv-sandhausen/eintracht-brau-hellip/2017                  4.0   \n",
       "rm-castilla/lorca-deportiva-cf-sad/2006                   3.0   \n",
       "toulouse-fc/paris-saint-germain-fc/2006                   6.0   \n",
       "\n",
       "                                          away_team_away_form  \\\n",
       "match_id                                                        \n",
       "bayern-munchen/karlsruher-sc/1992                         4.0   \n",
       "salernitana-calcio-1919/palermo/2018                      4.0   \n",
       "sv-sandhausen/eintracht-brau-hellip/2017                  3.0   \n",
       "rm-castilla/lorca-deportiva-cf-sad/2006                   3.0   \n",
       "toulouse-fc/paris-saint-germain-fc/2006                   4.0   \n",
       "\n",
       "                                          home_team_home_total_goals  \\\n",
       "match_id                                                               \n",
       "bayern-munchen/karlsruher-sc/1992                               14.0   \n",
       "salernitana-calcio-1919/palermo/2018                            28.0   \n",
       "sv-sandhausen/eintracht-brau-hellip/2017                        15.0   \n",
       "rm-castilla/lorca-deportiva-cf-sad/2006                          6.0   \n",
       "toulouse-fc/paris-saint-germain-fc/2006                         10.0   \n",
       "\n",
       "                                          away_team_away_total_goals  \\\n",
       "match_id                                                               \n",
       "bayern-munchen/karlsruher-sc/1992                               18.0   \n",
       "salernitana-calcio-1919/palermo/2018                            25.0   \n",
       "sv-sandhausen/eintracht-brau-hellip/2017                         7.0   \n",
       "rm-castilla/lorca-deportiva-cf-sad/2006                          5.0   \n",
       "toulouse-fc/paris-saint-germain-fc/2006                          8.0   \n",
       "\n",
       "                                          home_form  home_total_goals  \\\n",
       "match_id                                                                \n",
       "bayern-munchen/karlsruher-sc/1992               6.0              23.0   \n",
       "salernitana-calcio-1919/palermo/2018            7.0              51.0   \n",
       "sv-sandhausen/eintracht-brau-hellip/2017        7.0              29.0   \n",
       "rm-castilla/lorca-deportiva-cf-sad/2006         4.0              12.0   \n",
       "toulouse-fc/paris-saint-germain-fc/2006         7.0              19.0   \n",
       "\n",
       "                                          home_discipline  away_form  \\\n",
       "match_id                                                               \n",
       "bayern-munchen/karlsruher-sc/1992                     2.2        7.0   \n",
       "salernitana-calcio-1919/palermo/2018                  3.6        8.0   \n",
       "sv-sandhausen/eintracht-brau-hellip/2017              2.4        4.0   \n",
       "rm-castilla/lorca-deportiva-cf-sad/2006               2.0        6.0   \n",
       "toulouse-fc/paris-saint-germain-fc/2006               1.8        7.0   \n",
       "\n",
       "                                          away_total_goals  away_discipline  \n",
       "match_id                                                                     \n",
       "bayern-munchen/karlsruher-sc/1992                     24.0              2.4  \n",
       "salernitana-calcio-1919/palermo/2018                  57.0              1.2  \n",
       "sv-sandhausen/eintracht-brau-hellip/2017              33.0              2.6  \n",
       "rm-castilla/lorca-deportiva-cf-sad/2006                7.0              2.0  \n",
       "toulouse-fc/paris-saint-germain-fc/2006               26.0              1.8  \n",
       "\n",
       "[5 rows x 31 columns]"
      ]
     },
     "execution_count": 4,
     "metadata": {},
     "output_type": "execute_result"
    }
   ],
   "source": [
    "home_away_features_df = feature_engineering.generate_home_away_features(cleaned_df)\n",
    "home_data_transformed, away_data_transformed = feature_engineering.generate_team_season_features(cleaned_df)\n",
    "\n",
    "transformed_df = (home_away_features_df\n",
    "    .join(home_data_transformed)\n",
    "    .join(away_data_transformed)\n",
    ")\n",
    "transformed_df.sample(5)"
   ]
  },
  {
   "cell_type": "code",
   "execution_count": 5,
   "metadata": {},
   "outputs": [
    {
     "data": {
      "text/plain": [
       "0"
      ]
     },
     "execution_count": 5,
     "metadata": {},
     "output_type": "execute_result"
    }
   ],
   "source": [
    "transformed_df.isna().sum().sum()"
   ]
  },
  {
   "cell_type": "code",
   "execution_count": 6,
   "metadata": {},
   "outputs": [
    {
     "data": {
      "text/plain": [
       "Index(['home_team', 'away_team', 'score', 'link', 'season_year', 'match_round',\n",
       "       'league', 'home_goals', 'away_goals', 'result', 'home_points',\n",
       "       'away_points', 'capacity', 'missing_cards', 'missing_elo',\n",
       "       'home_yellow', 'home_red', 'home_elo', 'away_yellow', 'away_red',\n",
       "       'away_elo', 'home_team_home_form', 'away_team_away_form',\n",
       "       'home_team_home_total_goals', 'away_team_away_total_goals', 'home_form',\n",
       "       'home_total_goals', 'home_discipline', 'away_form', 'away_total_goals',\n",
       "       'away_discipline'],\n",
       "      dtype='object')"
      ]
     },
     "execution_count": 6,
     "metadata": {},
     "output_type": "execute_result"
    }
   ],
   "source": [
    "transformed_df.columns"
   ]
  },
  {
   "cell_type": "markdown",
   "metadata": {},
   "source": [
    "## SQL Database"
   ]
  },
  {
   "cell_type": "code",
   "execution_count": 6,
   "metadata": {},
   "outputs": [],
   "source": [
    "f = open('sql_details.json')\n",
    "sql_details = json.load(f)\n",
    "f.close()"
   ]
  },
  {
   "cell_type": "code",
   "execution_count": 7,
   "metadata": {},
   "outputs": [
    {
     "data": {
      "text/plain": [
       "619"
      ]
     },
     "execution_count": 7,
     "metadata": {},
     "output_type": "execute_result"
    }
   ],
   "source": [
    "DATABASE_TYPE = 'postgresql'\n",
    "DBAPI = 'psycopg2'\n",
    "HOST = 'localhost'\n",
    "USER = 'postgres'\n",
    "PASSWORD = sql_details['password']\n",
    "DATABASE = sql_details['database']\n",
    "PORT = 5432\n",
    "engine = create_engine(f\"{DATABASE_TYPE}+{DBAPI}://{USER}:{PASSWORD}@{HOST}:{PORT}/{DATABASE}\")\n",
    "\n",
    "cleaned_df.to_sql('cleaned_dataset', engine, if_exists='replace')"
   ]
  }
 ],
 "metadata": {
  "kernelspec": {
   "display_name": "Python 3.10.4 ('footy_predictor')",
   "language": "python",
   "name": "python3"
  },
  "language_info": {
   "codemirror_mode": {
    "name": "ipython",
    "version": 3
   },
   "file_extension": ".py",
   "mimetype": "text/x-python",
   "name": "python",
   "nbconvert_exporter": "python",
   "pygments_lexer": "ipython3",
   "version": "3.10.4"
  },
  "orig_nbformat": 4,
  "vscode": {
   "interpreter": {
    "hash": "c4bbc4a837dc347233f7bf2a9207f73a98c5ca2569aa701527add23fb81a3c25"
   }
  }
 },
 "nbformat": 4,
 "nbformat_minor": 2
}
