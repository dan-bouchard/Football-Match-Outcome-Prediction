{
 "cells": [
  {
   "cell_type": "markdown",
   "metadata": {},
   "source": [
    "# Football Match Predictor - Data pipeline and SQL database\n",
    "\n",
    "## Library Imports"
   ]
  },
  {
   "cell_type": "code",
   "execution_count": 1,
   "metadata": {},
   "outputs": [],
   "source": [
    "# Add all the library imports required\n",
    "import pandas as pd\n",
    "import numpy as np\n",
    "import pickle\n",
    "import data_cleaning\n",
    "from tqdm import tqdm\n",
    "import os"
   ]
  },
  {
   "cell_type": "markdown",
   "metadata": {},
   "source": [
    "## Generate Pipeline"
   ]
  },
  {
   "cell_type": "code",
   "execution_count": 2,
   "metadata": {},
   "outputs": [],
   "source": [
    "# Import all the data and merge into one data frame\n",
    "merged_data_df = data_cleaning.import_and_merge_data_pipeline()"
   ]
  },
  {
   "cell_type": "code",
   "execution_count": 3,
   "metadata": {},
   "outputs": [
    {
     "data": {
      "text/plain": [
       "date            3456\n",
       "referee        28241\n",
       "home_yellow     2854\n",
       "home_red        2854\n",
       "away_yellow     2854\n",
       "away_red        2854\n",
       "home_elo        9401\n",
       "away_elo        9401\n",
       "dtype: int64"
      ]
     },
     "execution_count": 3,
     "metadata": {},
     "output_type": "execute_result"
    }
   ],
   "source": [
    "# Clean all the data\n",
    "fill_cards_full_season_missing_df = data_cleaning.fill_median_yellow_red_cards_for_each_year(merged_data_df)\n",
    "\n",
    "fill_cards_teams_full_season_missing_df = data_cleaning.fill_median_yellow_red_cards_for_each_year_league(fill_cards_full_season_missing_df)\n",
    "fill_cards_teams_capacity_missing_df = data_cleaning.fill_median_value_for_each_year_league(fill_cards_teams_full_season_missing_df, ['capacity'])\n",
    "fill_cards_teams_capacity_elo_missing_df = data_cleaning.fill_median_value_for_each_year_league(fill_cards_teams_full_season_missing_df, ['home_elo', 'away_elo'])\n",
    "fill_cards_teams_capacity_elo_missing_df.isna().sum()[fill_cards_teams_capacity_elo_missing_df.isna().sum() > 0]"
   ]
  },
  {
   "cell_type": "code",
   "execution_count": 4,
   "metadata": {},
   "outputs": [],
   "source": [
    "# fill_cards_teams_capacity_missing_df.isna().sum()[fill_cards_teams_capacity_missing_df.isna().sum() > 0]"
   ]
  }
 ],
 "metadata": {
  "kernelspec": {
   "display_name": "Python 3.10.4 ('footy_predictor')",
   "language": "python",
   "name": "python3"
  },
  "language_info": {
   "codemirror_mode": {
    "name": "ipython",
    "version": 3
   },
   "file_extension": ".py",
   "mimetype": "text/x-python",
   "name": "python",
   "nbconvert_exporter": "python",
   "pygments_lexer": "ipython3",
   "version": "3.10.4"
  },
  "orig_nbformat": 4,
  "vscode": {
   "interpreter": {
    "hash": "c4bbc4a837dc347233f7bf2a9207f73a98c5ca2569aa701527add23fb81a3c25"
   }
  }
 },
 "nbformat": 4,
 "nbformat_minor": 2
}
